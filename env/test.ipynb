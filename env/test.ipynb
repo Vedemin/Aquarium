{
 "cells": [
  {
   "cell_type": "code",
   "execution_count": 28,
   "metadata": {},
   "outputs": [
    {
     "name": "stdout",
     "output_type": "stream",
     "text": [
      "[[0. 0. 0. ... 0. 0. 0.]\n",
      " [0. 0. 0. ... 0. 0. 0.]\n",
      " [0. 0. 0. ... 0. 0. 0.]\n",
      " ...\n",
      " [0. 0. 1. ... 0. 0. 0.]\n",
      " [0. 0. 0. ... 0. 0. 0.]\n",
      " [0. 0. 0. ... 0. 0. 0.]]\n"
     ]
    }
   ],
   "source": [
    "import cv2\n",
    "from matplotlib import pyplot as plt\n",
    "import numpy as np\n",
    "\n",
    "obstacleImage = cv2.imread(\"map.png\")\n",
    "obstacleImage = cv2.cvtColor(obstacleImage, cv2.COLOR_BGR2GRAY)\n",
    "grid = cv2.threshold(\n",
    "    obstacleImage, 127, 255, cv2.THRESH_BINARY_INV)[1]\n",
    "grid = grid/(grid.max()/1.0)\n",
    "print(grid)\n",
    "\n",
    "grid[15][3] = 2\n",
    "grid[24][17] = 2\n",
    "grid[30][11] = 2\n",
    "grid[12][11] = 3\n",
    "grid[2][11] = 3\n",
    "grid[20][11] = 4\n",
    "grid[25][12] = 4\n",
    "\n",
    "gridsize = (32, 32)\n",
    "\n",
    "def toImage(self, window_size):\n",
    "        img = np.zeros((gridsize[0], gridsize[1], 3))\n",
    "        for x in range(gridsize[0]):\n",
    "            for y in range(gridsize[1]):\n",
    "                match grid[x][y]:\n",
    "                    case 0:\n",
    "                        img[x][y][0] = 255\n",
    "                        img[x][y][1] = 255\n",
    "                        img[x][y][2] = 255\n",
    "                    case 1:\n",
    "                        img[x][y][0] = 0\n",
    "                        img[x][y][1] = 0\n",
    "                        img[x][y][2] = 0\n",
    "                    case 2:\n",
    "                        img[x][y][0] = 0\n",
    "                        img[x][y][1] = 255\n",
    "                        img[x][y][2] = 0\n",
    "                    case 3:\n",
    "                        img[x][y][0] = 255\n",
    "                        img[x][y][1] = 120\n",
    "                        img[x][y][2] = 0\n",
    "                    case 4:\n",
    "                        img[x][y][0] = 0\n",
    "                        img[x][y][1] = 0\n",
    "                        img[x][y][2] = 255\n",
    "        return cv2.resize(img, window_size, interpolation=cv2.INTER_NEAREST)\n",
    "\n",
    "newMap = toImage(grid, (400, 400))\n",
    "cv2.imshow(\"map\", newMap)\n",
    "  \n",
    "# waits for user to press any key\n",
    "# (this is necessary to avoid Python kernel form crashing)\n",
    "cv2.waitKey(0)\n",
    "  \n",
    "# closing all open windows\n",
    "cv2.destroyAllWindows()"
   ]
  },
  {
   "cell_type": "code",
   "execution_count": null,
   "metadata": {},
   "outputs": [],
   "source": []
  }
 ],
 "metadata": {
  "kernelspec": {
   "display_name": "venv",
   "language": "python",
   "name": "python3"
  },
  "language_info": {
   "codemirror_mode": {
    "name": "ipython",
    "version": 3
   },
   "file_extension": ".py",
   "mimetype": "text/x-python",
   "name": "python",
   "nbconvert_exporter": "python",
   "pygments_lexer": "ipython3",
   "version": "3.10.7"
  },
  "orig_nbformat": 4
 },
 "nbformat": 4,
 "nbformat_minor": 2
}
